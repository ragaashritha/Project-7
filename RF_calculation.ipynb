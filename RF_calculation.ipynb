{
  "nbformat": 4,
  "nbformat_minor": 0,
  "metadata": {
    "colab": {
      "name": "RF_calculation.ipynb",
      "version": "0.3.2",
      "provenance": [],
      "collapsed_sections": [],
      "include_colab_link": true
    },
    "kernelspec": {
      "name": "python3",
      "display_name": "Python 3"
    }
  },
  "cells": [
    {
      "cell_type": "markdown",
      "metadata": {
        "id": "view-in-github",
        "colab_type": "text"
      },
      "source": [
        "<a href=\"https://colab.research.google.com/github/ragaashritha/Project-7/blob/master/RF_calculation.ipynb\" target=\"_parent\"><img src=\"https://colab.research.google.com/assets/colab-badge.svg\" alt=\"Open In Colab\"/></a>"
      ]
    },
    {
      "cell_type": "code",
      "metadata": {
        "id": "JUOpqucLCKdz",
        "colab_type": "code",
        "colab": {}
      },
      "source": [
        "import pandas as pd\n",
        "import numpy as np"
      ],
      "execution_count": 0,
      "outputs": []
    },
    {
      "cell_type": "code",
      "metadata": {
        "id": "T7hmfVG6GO-x",
        "colab_type": "code",
        "colab": {}
      },
      "source": [
        "def receptive_field(rin,jin,stride,kernel):\n",
        "  jout = jin*stride\n",
        "  rout = rin + (kernel-1)*jin\n",
        "  print(kernel,\"\\t\",stride,\"\\t\", rout)\n",
        "  return rout,jout"
      ],
      "execution_count": 0,
      "outputs": []
    },
    {
      "cell_type": "code",
      "metadata": {
        "id": "Mh8JpE_PGTHV",
        "colab_type": "code",
        "colab": {
          "base_uri": "https://localhost:8080/",
          "height": 306
        },
        "outputId": "ba008f03-42f6-46db-8011-850e6b7ba1ef"
      },
      "source": [
        "print(\" Kernel \",\" Stride \",\" Receptive field \")\n",
        "\n",
        "layers = 15\n",
        "rin = 1\n",
        "jin = 1\n",
        "\n",
        "#layer1\n",
        "stride = 2\n",
        "kernel = 7\n",
        "rin,jin = receptive_field(rin,jin,stride,kernel)\n",
        "\n",
        "#layer2\n",
        "kernel = 3\n",
        "stride = 2\n",
        "rin,jin = receptive_field(rin,jin,stride,kernel)\n",
        "\n",
        "#layer3\n",
        "kernel = 3\n",
        "stride = 1\n",
        "rin,jin = receptive_field(rin,jin,stride,kernel)\n",
        "\n",
        "#layer4\n",
        "kernel = 3\n",
        "stride = 2\n",
        "rin,jin = receptive_field(rin,jin,stride,kernel)\n",
        "\n",
        "#layer5\n",
        "kernel = 5\n",
        "stride = 1\n",
        "rin,jin = receptive_field(rin,jin,stride,kernel)\n",
        "\n",
        "#layer6\n",
        "kernel = 5\n",
        "stride = 1\n",
        "rin,jin = receptive_field(rin,jin,stride,kernel)\n",
        "\n",
        "#layer7\n",
        "kernel = 3\n",
        "stride = 2\n",
        "rin,jin = receptive_field(rin,jin,stride,kernel)\n",
        "\n",
        "#layer8\n",
        "kernel = 5\n",
        "stride = 1\n",
        "rin,jin = receptive_field(rin,jin,stride,kernel)\n",
        "\n",
        "#layer9\n",
        "kernel = 5\n",
        "stride = 1\n",
        "rin,jin = receptive_field(rin,jin,stride,kernel)\n",
        "\n",
        "#layer10\n",
        "kernel = 5\n",
        "stride = 1\n",
        "rin,jin = receptive_field(rin,jin,stride,kernel)\n",
        "\n",
        "#layer11\n",
        "kernel = 5\n",
        "stride = 1\n",
        "rin,jin = receptive_field(rin,jin,stride,kernel)\n",
        "\n",
        "#layer12\n",
        "kernel = 5\n",
        "stride = 1\n",
        "rin,jin = receptive_field(rin,jin,stride,kernel)\n",
        "\n",
        "#layer13\n",
        "kernel = 3\n",
        "stride = 2\n",
        "rin,jin = receptive_field(rin,jin,stride,kernel)\n",
        "\n",
        "#layer14\n",
        "kernel = 5\n",
        "stride = 1\n",
        "rin,jin = receptive_field(rin,jin,stride,kernel)\n",
        "\n",
        "#layer15\n",
        "kernel = 5\n",
        "stride = 1\n",
        "rin,jin = receptive_field(rin,jin,stride,kernel)\n",
        "\n",
        "#layer11\n",
        "kernel = 7\n",
        "stride = 1\n",
        "rin,jin = receptive_field(rin,jin,stride,kernel)\n"
      ],
      "execution_count": 20,
      "outputs": [
        {
          "output_type": "stream",
          "text": [
            " Kernel   Stride   Receptive field \n",
            "7 \t 2 \t 7\n",
            "3 \t 2 \t 11\n",
            "3 \t 1 \t 19\n",
            "3 \t 2 \t 27\n",
            "5 \t 1 \t 59\n",
            "5 \t 1 \t 91\n",
            "3 \t 2 \t 107\n",
            "5 \t 1 \t 171\n",
            "5 \t 1 \t 235\n",
            "5 \t 1 \t 299\n",
            "5 \t 1 \t 363\n",
            "5 \t 1 \t 427\n",
            "3 \t 2 \t 459\n",
            "5 \t 1 \t 587\n",
            "5 \t 1 \t 715\n",
            "7 \t 1 \t 907\n"
          ],
          "name": "stdout"
        }
      ]
    },
    {
      "cell_type": "code",
      "metadata": {
        "id": "Y4JA6mTNHRcH",
        "colab_type": "code",
        "colab": {}
      },
      "source": [
        ""
      ],
      "execution_count": 0,
      "outputs": []
    }
  ]
}